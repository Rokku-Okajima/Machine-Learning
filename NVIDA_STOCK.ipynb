{
 "cells": [
  {
   "cell_type": "code",
   "execution_count": 15,
   "id": "bc15c7df",
   "metadata": {},
   "outputs": [
    {
     "name": "stderr",
     "output_type": "stream",
     "text": [
      "[*********************100%***********************]  1 of 1 completed\n"
     ]
    },
    {
     "data": {
      "text/html": [
       "<div>\n",
       "<style scoped>\n",
       "    .dataframe tbody tr th:only-of-type {\n",
       "        vertical-align: middle;\n",
       "    }\n",
       "\n",
       "    .dataframe tbody tr th {\n",
       "        vertical-align: top;\n",
       "    }\n",
       "\n",
       "    .dataframe thead tr th {\n",
       "        text-align: left;\n",
       "    }\n",
       "\n",
       "    .dataframe thead tr:last-of-type th {\n",
       "        text-align: right;\n",
       "    }\n",
       "</style>\n",
       "<table border=\"1\" class=\"dataframe\">\n",
       "  <thead>\n",
       "    <tr>\n",
       "      <th>Price</th>\n",
       "      <th>Open</th>\n",
       "      <th>High</th>\n",
       "      <th>Low</th>\n",
       "      <th>Close</th>\n",
       "      <th>Volume</th>\n",
       "    </tr>\n",
       "    <tr>\n",
       "      <th>Ticker</th>\n",
       "      <th>NVDA</th>\n",
       "      <th>NVDA</th>\n",
       "      <th>NVDA</th>\n",
       "      <th>NVDA</th>\n",
       "      <th>NVDA</th>\n",
       "    </tr>\n",
       "    <tr>\n",
       "      <th>Date</th>\n",
       "      <th></th>\n",
       "      <th></th>\n",
       "      <th></th>\n",
       "      <th></th>\n",
       "      <th></th>\n",
       "    </tr>\n",
       "  </thead>\n",
       "  <tbody>\n",
       "    <tr>\n",
       "      <th>2024-05-03</th>\n",
       "      <td>87.760163</td>\n",
       "      <td>89.251669</td>\n",
       "      <td>87.011408</td>\n",
       "      <td>88.759834</td>\n",
       "      <td>398341000</td>\n",
       "    </tr>\n",
       "    <tr>\n",
       "      <th>2024-05-06</th>\n",
       "      <td>89.360629</td>\n",
       "      <td>92.189701</td>\n",
       "      <td>89.025740</td>\n",
       "      <td>92.109726</td>\n",
       "      <td>376203000</td>\n",
       "    </tr>\n",
       "    <tr>\n",
       "      <th>2024-05-07</th>\n",
       "      <td>91.068066</td>\n",
       "      <td>91.750840</td>\n",
       "      <td>88.981754</td>\n",
       "      <td>90.524246</td>\n",
       "      <td>437342000</td>\n",
       "    </tr>\n",
       "    <tr>\n",
       "      <th>2024-05-08</th>\n",
       "      <td>89.453606</td>\n",
       "      <td>91.164042</td>\n",
       "      <td>89.390623</td>\n",
       "      <td>90.382301</td>\n",
       "      <td>325721000</td>\n",
       "    </tr>\n",
       "    <tr>\n",
       "      <th>2024-05-09</th>\n",
       "      <td>90.499262</td>\n",
       "      <td>91.042083</td>\n",
       "      <td>88.202020</td>\n",
       "      <td>88.717850</td>\n",
       "      <td>378013000</td>\n",
       "    </tr>\n",
       "  </tbody>\n",
       "</table>\n",
       "</div>"
      ],
      "text/plain": [
       "Price            Open       High        Low      Close     Volume\n",
       "Ticker           NVDA       NVDA       NVDA       NVDA       NVDA\n",
       "Date                                                             \n",
       "2024-05-03  87.760163  89.251669  87.011408  88.759834  398341000\n",
       "2024-05-06  89.360629  92.189701  89.025740  92.109726  376203000\n",
       "2024-05-07  91.068066  91.750840  88.981754  90.524246  437342000\n",
       "2024-05-08  89.453606  91.164042  89.390623  90.382301  325721000\n",
       "2024-05-09  90.499262  91.042083  88.202020  88.717850  378013000"
      ]
     },
     "execution_count": 15,
     "metadata": {},
     "output_type": "execute_result"
    }
   ],
   "source": [
    "# import the libraries\n",
    "\n",
    "import yfinance as yf\n",
    "import pandas as pd\n",
    "\n",
    "NVIDA_Data = yf.download('NVDA', start=\"2024-05-03\", end=\"2025-05-02\")\n",
    "# seletcing the features and target\n",
    "# 'Open', 'High', 'Low', 'Close','Volume' \n",
    "NVIDA_Features = ['Open', 'High', 'Low', 'Close', 'Volume']\n",
    "NVIDA_Data = NVIDA_Data[NVIDA_Features]\n",
    "NVIDA_Price = NVIDA_Data['Close']\n",
    "# Displying NVIDA Historical Data\n",
    "NVIDA_Data.head()"
   ]
  },
  {
   "cell_type": "code",
   "execution_count": 17,
   "id": "31e4abce",
   "metadata": {},
   "outputs": [],
   "source": [
    "# importing train_test_split\n",
    "from sklearn.model_selection import train_test_split\n",
    "# Creating a training and testing set\n",
    "\n",
    "NVIDA_Data_train, NVIDA_Data_test, NVIDA_Price_train, NVIDA_Price_test = train_test_split(NVIDA_Data, NVIDA_Price, random_state=1)"
   ]
  },
  {
   "cell_type": "code",
   "execution_count": 19,
   "id": "d78f6172",
   "metadata": {},
   "outputs": [
    {
     "name": "stderr",
     "output_type": "stream",
     "text": [
      "/home/codespace/.local/lib/python3.12/site-packages/sklearn/base.py:1389: DataConversionWarning: A column-vector y was passed when a 1d array was expected. Please change the shape of y to (n_samples,), for example using ravel().\n",
      "  return fit_method(estimator, *args, **kwargs)\n"
     ]
    }
   ],
   "source": [
    "# importing RandomForestRegressor\n",
    "from sklearn.ensemble import RandomForestRegressor\n",
    "# creating NVIDA model\n",
    "NVIDA_model = RandomForestRegressor(n_estimators=100, random_state=50)\n",
    "# fitting the model\n",
    "NVIDA_model.fit(NVIDA_Data_train, NVIDA_Price_train)\n",
    "NVIDA_predictions = NVIDA_model.predict(NVIDA_Data_test)\n"
   ]
  },
  {
   "cell_type": "code",
   "execution_count": 20,
   "id": "8a58c8be",
   "metadata": {},
   "outputs": [
    {
     "name": "stdout",
     "output_type": "stream",
     "text": [
      "Mean absolute error for NVIDA model: 0.29\n"
     ]
    }
   ],
   "source": [
    " # importing mean_absolute_error\n",
    "from sklearn.metrics import mean_absolute_error\n",
    "NVIDA_mae = mean_absolute_error(NVIDA_predictions, NVIDA_Price_test)\n",
    "# displaying the mean absolute error\n",
    "print(\"Mean absolute error for NVIDA model: {:.2f}\".format(NVIDA_mae))"
   ]
  },
  {
   "cell_type": "code",
   "execution_count": null,
   "id": "e1e404cf",
   "metadata": {},
   "outputs": [],
   "source": [
    "# predicting the price\n",
    "import matplotlib.pyplot as plt\n",
    "plt.plot(NVIDA_Data_test.index, NVIDA_Price_test, label='Actual Price')\n",
    "plt.plot(N)"
   ]
  }
 ],
 "metadata": {
  "kernelspec": {
   "display_name": "Python 3",
   "language": "python",
   "name": "python3"
  },
  "language_info": {
   "codemirror_mode": {
    "name": "ipython",
    "version": 3
   },
   "file_extension": ".py",
   "mimetype": "text/x-python",
   "name": "python",
   "nbconvert_exporter": "python",
   "pygments_lexer": "ipython3",
   "version": "3.12.1"
  }
 },
 "nbformat": 4,
 "nbformat_minor": 5
}
